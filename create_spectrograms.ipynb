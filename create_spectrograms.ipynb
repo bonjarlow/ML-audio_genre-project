{
 "cells": [
  {
   "cell_type": "code",
   "execution_count": null,
   "metadata": {},
   "outputs": [],
   "source": [
    "import librosa\n",
    "import numpy as np\n",
    "import matplotlib.pyplot as plt\n",
    "import librosa.display\n",
    "import os\n",
    "import pandas as pd"
   ]
  },
  {
   "cell_type": "code",
   "execution_count": null,
   "metadata": {},
   "outputs": [],
   "source": [
    "# make dataframe to store each filename, audio array (data), and sample rate (sr) of GTZAN dataset\n",
    "\n",
    "directory = 'genres'\n",
    "\n",
    "df = pd.DataFrame(columns =['filename','data','sr'])\n",
    "\n",
    "for folders in os.listdir(directory):\n",
    "    # folders in 'genres'\n",
    "    if folders != '.DS_Store':\n",
    "        for filename in os.listdir(directory+\"/\"+folders):\n",
    "            f = os.path.join(directory, folders, filename)\n",
    "            data, sr = librosa.load(f)\n",
    "            insert_data = {'filename':str(f), 'data': data, 'sr': sr}\n",
    "            df = df.append(insert_data, ignore_index=True)"
   ]
  },
  {
   "cell_type": "code",
   "execution_count": null,
   "metadata": {},
   "outputs": [],
   "source": [
    "# make directories to store mel spectrograms\n",
    "\n",
    "genres = ['blues', 'classical', 'country', 'disco', 'pop', 'hiphop', 'metal', 'reggae', 'rock', 'jazz']\n",
    "\n",
    "main_directory = 'mel_spectrograms_3sec/'\n",
    "\n",
    "for g in genres:\n",
    "    name = main_directory + g\n",
    "    os.makedirs(name)"
   ]
  },
  {
   "cell_type": "code",
   "execution_count": null,
   "metadata": {},
   "outputs": [],
   "source": [
    "#make mel spectrogram for each audio file\n",
    "#change split_size to determine length of audio file used in spectrogram (661794 is array length of 30 sec audio)\n",
    "#chop off the last 4 elements of array for even division into 10 segements\n",
    "\n",
    "\n",
    "for fn, data, sr in zip(df['filename'], df['data'], df['sr']):\n",
    "    #split_size = int(len(data)/3) #split 30 second audio data into 3 10-second segements\n",
    "    split_size = int(661790/10) #split 30 second audio data into 10 3-second segments\n",
    "    \n",
    "    path, num, ext = fn.split('.')\n",
    "    top_dir, mid_dir, low_dir = path.split('/')\n",
    "    new_path = main_directory + \"/\" + mid_dir + \"/\" + low_dir\n",
    "    \n",
    "    for i in range(10):\n",
    "        fig, ax = plt.subplots()\n",
    "        ax.set_axis_off()\n",
    "        \n",
    "        #make the mel spectrogram\n",
    "        split_data = data[i*split_size:(i+1)*split_size]\n",
    "        S = librosa.feature.melspectrogram(y=split_data, sr=sr, n_mels=128, fmax=8000)\n",
    "        S_dB = librosa.power_to_db(S, ref=np.max)\n",
    "        img = librosa.display.specshow(S_dB, x_axis='time', y_axis='mel', sr=sr, fmax=8000);\n",
    "        \n",
    "        #save it in new directory mel_spectrograms/*genre name*/*genre name*.number_split.png\n",
    "        filename = new_path + '.' + num + '_' + str(i) + '.png'\n",
    "        \n",
    "        fig.savefig(filename, bbox_inches='tight', transparent=True, pad_inches=0.0)\n",
    "        fig.clf()\n",
    "        plt.close(fig)"
   ]
  }
 ],
 "metadata": {
  "kernelspec": {
   "display_name": "Python 3",
   "language": "python",
   "name": "python3"
  },
  "language_info": {
   "codemirror_mode": {
    "name": "ipython",
    "version": 3
   },
   "file_extension": ".py",
   "mimetype": "text/x-python",
   "name": "python",
   "nbconvert_exporter": "python",
   "pygments_lexer": "ipython3",
   "version": "3.8.3"
  }
 },
 "nbformat": 4,
 "nbformat_minor": 4
}
