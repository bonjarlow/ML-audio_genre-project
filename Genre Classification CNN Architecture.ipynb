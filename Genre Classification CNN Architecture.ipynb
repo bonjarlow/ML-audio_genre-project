{
 "cells": [
  {
   "cell_type": "code",
   "execution_count": 2,
   "id": "1ead67b9",
   "metadata": {},
   "outputs": [
    {
     "data": {
      "text/plain": [
       "<torch._C.Generator at 0x7fdda6d0c9b0>"
      ]
     },
     "execution_count": 2,
     "metadata": {},
     "output_type": "execute_result"
    }
   ],
   "source": [
    "import torch\n",
    "import pandas as pd\n",
    "import numpy as np\n",
    "\n",
    "seed = 42\n",
    "np.random.seed(seed)\n",
    "torch.manual_seed(seed)"
   ]
  },
  {
   "cell_type": "code",
   "execution_count": null,
   "id": "cea405ac",
   "metadata": {},
   "outputs": [],
   "source": []
  },
  {
   "cell_type": "code",
   "execution_count": null,
   "id": "afc017cb",
   "metadata": {},
   "outputs": [],
   "source": [
    "import torch.nn as nn\n",
    "\n",
    "# class CNN(nn.Module):\n",
    "    \n",
    "#     def __init__(self, N):\n",
    "#         \"\"\"constructor of CNN:\n",
    "#         \"\"\"\n",
    "#         # inherit attributes and methods of nn.Module\n",
    "#         super(model, self).__init__()\n",
    "        \n",
    "#         # create convolutional layer with input depth 1 and output depth N\n",
    "#         self.conv1 = nn.Conv2d(1, N, kernel_size=2, padding=1)\n",
    "#         # batch norm layer takes Depth\n",
    "#         self.bn1=nn.BatchNorm2d(N) \n",
    "#         # create fully connected layer after maxpool operation reduced 40->18\n",
    "#         self.fc1 = nn.Linear(20*20*N, 2)\n",
    "#         self.N=N\n",
    "#         self.L=L\n",
    "#         print(\"The number of neurons in CNN layer is %i\"%(N))\n",
    "        \n",
    "#     def forward(self, x):\n",
    "#         #Unsqueeze command indicates one channel and turns x.shape from (:,40,40) to (:,1, 40,40)\n",
    "#         x=F.relu(self.conv1(torch.unsqueeze(x,1).float()))\n",
    "#         #print(x.shape) often useful to look at shapes for debugging\n",
    "#         x = F.max_pool2d(x,2)\n",
    "#         #print(x.shape)\n",
    "#         x=self.bn1(x) # largely unnecessary and here just for pedagogical purposes\n",
    "#         return F.log_softmax(self.fc1(x.view(-1,20*20*self.N)), dim=1)\n",
    "    \n",
    "class CNN(nn.Module):\n",
    "    def __init__(self):\n",
    "        super(CNN, self).__init__()\n",
    "        self.conv1 = nn.Conv2d(\n",
    "                        in_channels=1,              \n",
    "                        out_channels=16,            \n",
    "                        kernel_size=5,              \n",
    "                        stride=1,                   \n",
    "                        padding=2) \n",
    "        self.bn1=nn.BatchNorm2d(16) #output channel\n",
    "        \n",
    "#         self.conv2 = nn.Conv2d(16, 32, 5, 1, 2)\n",
    "#         self.bn2=nn.BatchNorm2d(32)\n",
    "#         self.conv3 = nn.Conv2d(16, 32, 5, 1, 2)\n",
    "#         self.bn3=nn.BatchNorm2d(32) \n",
    "        \n",
    "        # fully connected layer, output 10 classes\n",
    "        self.fc1 = nn.Linear(16)\n",
    "        #self.out = nn.Linear(10) # out in the forward function?\n",
    "        \n",
    "    def forward(self, x):\n",
    "        #conv1\n",
    "        x=nn.ReLU(self.conv1(x))                      \n",
    "        x=nn.MaxPool2d(x, kernel_size=2) #F. and nn. pretty much the same\n",
    "        print(x.shape)\n",
    "        x=x.view(-1, 16) #view = reshapes function\n",
    "        output = nn.log_softmax(self.fc1(x), dim=1) #dim = -1? i think -1 makes the computer decide\n",
    "        return output, x    # return x for visualization"
   ]
  },
  {
   "cell_type": "code",
   "execution_count": null,
   "id": "711dacf2",
   "metadata": {},
   "outputs": [],
   "source": []
  },
  {
   "cell_type": "code",
   "execution_count": null,
   "id": "2c896206",
   "metadata": {},
   "outputs": [],
   "source": []
  },
  {
   "cell_type": "code",
   "execution_count": null,
   "id": "57ce198f",
   "metadata": {},
   "outputs": [],
   "source": []
  },
  {
   "cell_type": "code",
   "execution_count": null,
   "id": "5f3619d2",
   "metadata": {},
   "outputs": [],
   "source": []
  },
  {
   "cell_type": "code",
   "execution_count": null,
   "id": "4aca4acb",
   "metadata": {},
   "outputs": [],
   "source": []
  },
  {
   "cell_type": "code",
   "execution_count": null,
   "id": "7a40c7b7",
   "metadata": {},
   "outputs": [],
   "source": []
  }
 ],
 "metadata": {
  "kernelspec": {
   "display_name": "Python 3 (ipykernel)",
   "language": "python",
   "name": "python3"
  },
  "language_info": {
   "codemirror_mode": {
    "name": "ipython",
    "version": 3
   },
   "file_extension": ".py",
   "mimetype": "text/x-python",
   "name": "python",
   "nbconvert_exporter": "python",
   "pygments_lexer": "ipython3",
   "version": "3.9.12"
  }
 },
 "nbformat": 4,
 "nbformat_minor": 5
}
